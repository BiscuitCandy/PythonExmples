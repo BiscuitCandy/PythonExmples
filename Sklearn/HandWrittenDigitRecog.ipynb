{
 "cells": [
  {
   "cell_type": "code",
   "execution_count": 12,
   "source": [
    "import numpy as np\r\n",
    "import random\r\n",
    "\r\n",
    "%matplotlib inline\r\n",
    "from matplotlib import pyplot as plt\r\n",
    "\r\n",
    "from sklearn import datasets\r\n",
    "from sklearn import svm\r\n",
    "\r\n",
    "from sklearn.model_selection import train_test_split\r\n",
    "from sklearn.model_selection import GridSearchCV\r\n",
    "from sklearn.metrics import accuracy_score, confusion_matrix\r\n",
    "from sklearn.metrics import classification_report, plot_confusion_matrix\r\n"
   ],
   "outputs": [],
   "metadata": {}
  },
  {
   "cell_type": "code",
   "execution_count": 2,
   "source": [
    "# Load digits from Sklearn \r\n",
    "dig_data = datasets.load_digits()\r\n",
    "\r\n",
    "print(dig_data.DESCR)\r\n"
   ],
   "outputs": [
    {
     "output_type": "stream",
     "name": "stdout",
     "text": [
      ".. _digits_dataset:\n",
      "\n",
      "Optical recognition of handwritten digits dataset\n",
      "--------------------------------------------------\n",
      "\n",
      "**Data Set Characteristics:**\n",
      "\n",
      "    :Number of Instances: 1797\n",
      "    :Number of Attributes: 64\n",
      "    :Attribute Information: 8x8 image of integer pixels in the range 0..16.\n",
      "    :Missing Attribute Values: None\n",
      "    :Creator: E. Alpaydin (alpaydin '@' boun.edu.tr)\n",
      "    :Date: July; 1998\n",
      "\n",
      "This is a copy of the test set of the UCI ML hand-written digits datasets\n",
      "https://archive.ics.uci.edu/ml/datasets/Optical+Recognition+of+Handwritten+Digits\n",
      "\n",
      "The data set contains images of hand-written digits: 10 classes where\n",
      "each class refers to a digit.\n",
      "\n",
      "Preprocessing programs made available by NIST were used to extract\n",
      "normalized bitmaps of handwritten digits from a preprinted form. From a\n",
      "total of 43 people, 30 contributed to the training set and different 13\n",
      "to the test set. 32x32 bitmaps are divided into nonoverlapping blocks of\n",
      "4x4 and the number of on pixels are counted in each block. This generates\n",
      "an input matrix of 8x8 where each element is an integer in the range\n",
      "0..16. This reduces dimensionality and gives invariance to small\n",
      "distortions.\n",
      "\n",
      "For info on NIST preprocessing routines, see M. D. Garris, J. L. Blue, G.\n",
      "T. Candela, D. L. Dimmick, J. Geist, P. J. Grother, S. A. Janet, and C.\n",
      "L. Wilson, NIST Form-Based Handprint Recognition System, NISTIR 5469,\n",
      "1994.\n",
      "\n",
      ".. topic:: References\n",
      "\n",
      "  - C. Kaynak (1995) Methods of Combining Multiple Classifiers and Their\n",
      "    Applications to Handwritten Digit Recognition, MSc Thesis, Institute of\n",
      "    Graduate Studies in Science and Engineering, Bogazici University.\n",
      "  - E. Alpaydin, C. Kaynak (1998) Cascading Classifiers, Kybernetika.\n",
      "  - Ken Tang and Ponnuthurai N. Suganthan and Xi Yao and A. Kai Qin.\n",
      "    Linear dimensionalityreduction using relevance weighted LDA. School of\n",
      "    Electrical and Electronic Engineering Nanyang Technological University.\n",
      "    2005.\n",
      "  - Claudio Gentile. A New Approximate Maximal Margin Classification\n",
      "    Algorithm. NIPS. 2000.\n",
      "\n"
     ]
    }
   ],
   "metadata": {}
  },
  {
   "cell_type": "code",
   "execution_count": 3,
   "source": [
    "# DataType of imported dataset \r\n",
    "print(type(dig_data))\r\n",
    "\r\n",
    "# no. of dig_data image cases\r\n",
    "print(\"Total Cases : \", len(dig_data.images))\r\n",
    "\r\n",
    "# Keys in dig_data dataset \r\n",
    "# [Bunch objects are similar to dictionaries]\r\n",
    "# Here each kay has a bunch of values linked to it\r\n",
    "print(dig_data.keys())\r\n",
    "\r\n",
    "# Targets of dig_data\r\n",
    "# the .target attribute provides the target value for all the\r\n",
    "# data entries of the dig_data dataset\r\n",
    "print(dig_data.target)\r\n",
    "\r\n",
    "#The Allowed targets are\r\n",
    "print(\"Allowed targets : \", *dig_data.target_names)"
   ],
   "outputs": [
    {
     "output_type": "stream",
     "name": "stdout",
     "text": [
      "<class 'sklearn.utils.Bunch'>\n",
      "Total Cases :  1797\n",
      "dict_keys(['data', 'target', 'frame', 'feature_names', 'target_names', 'images', 'DESCR'])\n",
      "[0 1 2 ... 8 9 8]\n",
      "Allowed targets :  0 1 2 3 4 5 6 7 8 9\n"
     ]
    }
   ],
   "metadata": {}
  },
  {
   "cell_type": "code",
   "execution_count": 4,
   "source": [
    "# Image attribute values be like\r\n",
    "dig_data.images[0]"
   ],
   "outputs": [
    {
     "output_type": "execute_result",
     "data": {
      "text/plain": [
       "array([[ 0.,  0.,  5., 13.,  9.,  1.,  0.,  0.],\n",
       "       [ 0.,  0., 13., 15., 10., 15.,  5.,  0.],\n",
       "       [ 0.,  3., 15.,  2.,  0., 11.,  8.,  0.],\n",
       "       [ 0.,  4., 12.,  0.,  0.,  8.,  8.,  0.],\n",
       "       [ 0.,  5.,  8.,  0.,  0.,  9.,  8.,  0.],\n",
       "       [ 0.,  4., 11.,  0.,  1., 12.,  7.,  0.],\n",
       "       [ 0.,  2., 14.,  5., 10., 12.,  0.,  0.],\n",
       "       [ 0.,  0.,  6., 13., 10.,  0.,  0.,  0.]])"
      ]
     },
     "metadata": {},
     "execution_count": 4
    }
   ],
   "metadata": {}
  },
  {
   "cell_type": "code",
   "execution_count": 5,
   "source": [
    "# Visualization of first Image\r\n",
    "plt.figure(figsize=(4, 4))\r\n",
    "plt.imshow(dig_data.images[0], interpolation = \"nearest\", cmap = plt.cm.gray_r)\r\n",
    "plt.title(\"Hand Written Digit\")"
   ],
   "outputs": [
    {
     "output_type": "execute_result",
     "data": {
      "text/plain": [
       "Text(0.5, 1.0, 'Hand Written Digit')"
      ]
     },
     "metadata": {},
     "execution_count": 5
    },
    {
     "output_type": "display_data",
     "data": {
      "image/png": "[encoded data removed]",
      "text/plain": [
       "<Figure size 288x288 with 1 Axes>"
      ]
     },
     "metadata": {
      "needs_background": "light"
     }
    }
   ],
   "metadata": {}
  },
  {
   "cell_type": "code",
   "execution_count": 6,
   "source": [
    "# Reshape the image data in an accessible manner\r\n",
    "digits = dig_data.images.reshape((len(dig_data.images), -1))\r\n",
    "\r\n",
    "# shape of digits dataset\r\n",
    "digits.shape"
   ],
   "outputs": [
    {
     "output_type": "execute_result",
     "data": {
      "text/plain": [
       "(1797, 64)"
      ]
     },
     "metadata": {},
     "execution_count": 6
    }
   ],
   "metadata": {}
  },
  {
   "cell_type": "code",
   "execution_count": 7,
   "source": [
    "# Split the data into training set and testing set in [99:1 ratio] \r\n",
    "x_train, x_test, y_train, y_test = train_test_split(digits, dig_data.target, \r\n",
    "                                        train_size = 0.7, random_state=1)"
   ],
   "outputs": [],
   "metadata": {}
  },
  {
   "cell_type": "code",
   "execution_count": 36,
   "source": [
    "# Create a GridSearch to find the best_parameters for the good accuracy\r\n",
    "GSV = GridSearchCV(svm.SVC(kernel = \"rbf\"), \r\n",
    "        param_grid = {\"gamma\" : [0.001, 0.01, 0.1, 1], \"C\" : [1.0, 1.0, 100.0]}, cv=3)\r\n",
    "\r\n",
    "GSV.fit(x_train, y_train)\r\n",
    "\r\n",
    "GSV.cv_results_"
   ],
   "outputs": [
    {
     "output_type": "execute_result",
     "data": {
      "text/plain": [
       "{'mean_fit_time': array([0.07214936, 0.23040366, 0.23136926, 0.28223332, 0.06117074,\n",
       "        0.19813577, 0.19481889, 0.27358317, 0.06050062, 0.19879667,\n",
       "        0.20046886, 0.28122338]),\n",
       " 'std_fit_time': array([0.00952004, 0.02055227, 0.01571392, 0.01200197, 0.0004716 ,\n",
       "        0.00169696, 0.00124371, 0.00123242, 0.00047929, 0.00172447,\n",
       "        0.00082063, 0.00294086]),\n",
       " 'mean_score_time': array([0.0588332 , 0.11633945, 0.12035553, 0.14295324, 0.05519533,\n",
       "        0.10139823, 0.1023856 , 0.14130894, 0.05252051, 0.10304952,\n",
       "        0.10273353, 0.14098318]),\n",
       " 'std_score_time': array([0.00494067, 0.00739699, 0.01074159, 0.00249116, 0.00170446,\n",
       "        0.00124012, 0.00093966, 0.0012345 , 0.00045389, 0.00045519,\n",
       "        0.00162805, 0.00044742]),\n",
       " 'param_C': masked_array(data=[1.0, 1.0, 1.0, 1.0, 1.0, 1.0, 1.0, 1.0, 100.0, 100.0,\n",
       "                    100.0, 100.0],\n",
       "              mask=[False, False, False, False, False, False, False, False,\n",
       "                    False, False, False, False],\n",
       "        fill_value='?',\n",
       "             dtype=object),\n",
       " 'param_gamma': masked_array(data=[0.001, 0.01, 0.1, 1, 0.001, 0.01, 0.1, 1, 0.001, 0.01,\n",
       "                    0.1, 1],\n",
       "              mask=[False, False, False, False, False, False, False, False,\n",
       "                    False, False, False, False],\n",
       "        fill_value='?',\n",
       "             dtype=object),\n",
       " 'params': [{'C': 1.0, 'gamma': 0.001},\n",
       "  {'C': 1.0, 'gamma': 0.01},\n",
       "  {'C': 1.0, 'gamma': 0.1},\n",
       "  {'C': 1.0, 'gamma': 1},\n",
       "  {'C': 1.0, 'gamma': 0.001},\n",
       "  {'C': 1.0, 'gamma': 0.01},\n",
       "  {'C': 1.0, 'gamma': 0.1},\n",
       "  {'C': 1.0, 'gamma': 1},\n",
       "  {'C': 100.0, 'gamma': 0.001},\n",
       "  {'C': 100.0, 'gamma': 0.01},\n",
       "  {'C': 100.0, 'gamma': 0.1},\n",
       "  {'C': 100.0, 'gamma': 1}],\n",
       " 'split0_test_score': array([0.98819562, 0.82630691, 0.10286678, 0.10286678, 0.98819562,\n",
       "        0.82630691, 0.10286678, 0.10286678, 0.98988196, 0.83305228,\n",
       "        0.10286678, 0.10286678]),\n",
       " 'split1_test_score': array([0.98819562, 0.80775717, 0.10286678, 0.10118044, 0.98819562,\n",
       "        0.80775717, 0.10286678, 0.10118044, 0.98819562, 0.81956155,\n",
       "        0.10286678, 0.10118044]),\n",
       " 'split2_test_score': array([0.98482293, 0.82630691, 0.10455312, 0.10286678, 0.98482293,\n",
       "        0.82630691, 0.10455312, 0.10286678, 0.98650927, 0.83979764,\n",
       "        0.10455312, 0.10286678]),\n",
       " 'mean_test_score': array([0.98707139, 0.82012366, 0.10342889, 0.10230467, 0.98707139,\n",
       "        0.82012366, 0.10342889, 0.10230467, 0.98819562, 0.83080382,\n",
       "        0.10342889, 0.10230467]),\n",
       " 'std_test_score': array([0.0015899 , 0.00874443, 0.00079495, 0.00079495, 0.0015899 ,\n",
       "        0.00874443, 0.00079495, 0.00079495, 0.00137689, 0.00841295,\n",
       "        0.00079495, 0.00079495]),\n",
       " 'rank_test_score': array([ 2,  5,  7, 10,  2,  5,  7, 10,  1,  4,  7, 10])}"
      ]
     },
     "metadata": {},
     "execution_count": 36
    }
   ],
   "metadata": {}
  },
  {
   "cell_type": "code",
   "execution_count": 37,
   "source": [
    "# Select the best parameters \r\n",
    "# one can also look through the rank_test_score for more insights\r\n",
    "GSV.best_params_"
   ],
   "outputs": [
    {
     "output_type": "execute_result",
     "data": {
      "text/plain": [
       "{'C': 100.0, 'gamma': 0.001}"
      ]
     },
     "metadata": {},
     "execution_count": 37
    }
   ],
   "metadata": {}
  },
  {
   "cell_type": "code",
   "execution_count": 38,
   "source": [
    "# Now using best parameters create a SVC mode\r\n",
    "model = svm.SVC(C = 10.0, gamma = 0.001)\r\n",
    "# Fit the model with training dataset\r\n",
    "model.fit(x_train, y_train)\r\n",
    "\r\n",
    "# Model score\r\n",
    "score = model.score(x_test, y_test)\r\n",
    "print(score)\r\n",
    "\r\n",
    "# Acuraccy metrics\r\n",
    "accuracy_score(y_test, model.predict(x_test))"
   ],
   "outputs": [
    {
     "output_type": "stream",
     "name": "stdout",
     "text": [
      "1.0\n"
     ]
    },
    {
     "output_type": "execute_result",
     "data": {
      "text/plain": [
       "1.0"
      ]
     },
     "metadata": {},
     "execution_count": 38
    }
   ],
   "metadata": {}
  },
  {
   "cell_type": "code",
   "execution_count": 39,
   "source": [
    "# Classification report\r\n",
    "print(classification_report(y_test, model.predict(x_test)))"
   ],
   "outputs": [
    {
     "output_type": "stream",
     "name": "stdout",
     "text": [
      "              precision    recall  f1-score   support\n",
      "\n",
      "           0       1.00      1.00      1.00         2\n",
      "           1       1.00      1.00      1.00         3\n",
      "           2       1.00      1.00      1.00         1\n",
      "           3       1.00      1.00      1.00         1\n",
      "           4       1.00      1.00      1.00         2\n",
      "           5       1.00      1.00      1.00         2\n",
      "           6       1.00      1.00      1.00         2\n",
      "           7       1.00      1.00      1.00         2\n",
      "           8       1.00      1.00      1.00         1\n",
      "           9       1.00      1.00      1.00         2\n",
      "\n",
      "    accuracy                           1.00        18\n",
      "   macro avg       1.00      1.00      1.00        18\n",
      "weighted avg       1.00      1.00      1.00        18\n",
      "\n"
     ]
    }
   ],
   "metadata": {}
  },
  {
   "cell_type": "code",
   "execution_count": 40,
   "source": [
    "# Confusion Matrix\r\n",
    "confusion_matrix(y_test, model.predict(x_test))"
   ],
   "outputs": [
    {
     "output_type": "execute_result",
     "data": {
      "text/plain": [
       "array([[2, 0, 0, 0, 0, 0, 0, 0, 0, 0],\n",
       "       [0, 3, 0, 0, 0, 0, 0, 0, 0, 0],\n",
       "       [0, 0, 1, 0, 0, 0, 0, 0, 0, 0],\n",
       "       [0, 0, 0, 1, 0, 0, 0, 0, 0, 0],\n",
       "       [0, 0, 0, 0, 2, 0, 0, 0, 0, 0],\n",
       "       [0, 0, 0, 0, 0, 2, 0, 0, 0, 0],\n",
       "       [0, 0, 0, 0, 0, 0, 2, 0, 0, 0],\n",
       "       [0, 0, 0, 0, 0, 0, 0, 2, 0, 0],\n",
       "       [0, 0, 0, 0, 0, 0, 0, 0, 1, 0],\n",
       "       [0, 0, 0, 0, 0, 0, 0, 0, 0, 2]], dtype=int64)"
      ]
     },
     "metadata": {},
     "execution_count": 40
    }
   ],
   "metadata": {}
  },
  {
   "cell_type": "code",
   "execution_count": 8,
   "source": [
    "# Now lets create a model with C = 100.0\r\n",
    "# ususally the best parameters of gridScearch varies\r\n",
    "# As random splitting takes place the \r\n",
    "# train and test data changes every time we run it\r\n",
    "\r\n",
    "model = svm.SVC(C = 100.0, gamma = 0.001)\r\n",
    "model.fit(x_train, y_train)\r\n",
    "\r\n",
    "print(model.score(x_test, y_test))\r\n",
    "print(\"Accuracy -\", accuracy_score(y_test, model.predict(x_test)))\r\n",
    "\r\n",
    "print(classification_report(y_test, model.predict(x_test)))"
   ],
   "outputs": [
    {
     "output_type": "stream",
     "name": "stdout",
     "text": [
      "0.9907407407407407\n",
      "Accuracy - 0.9907407407407407\n",
      "              precision    recall  f1-score   support\n",
      "\n",
      "           0       1.00      1.00      1.00        59\n",
      "           1       0.98      1.00      0.99        49\n",
      "           2       1.00      1.00      1.00        49\n",
      "           3       1.00      1.00      1.00        64\n",
      "           4       1.00      1.00      1.00        61\n",
      "           5       0.96      0.98      0.97        47\n",
      "           6       1.00      1.00      1.00        51\n",
      "           7       1.00      0.98      0.99        57\n",
      "           8       1.00      0.98      0.99        46\n",
      "           9       0.96      0.96      0.96        57\n",
      "\n",
      "    accuracy                           0.99       540\n",
      "   macro avg       0.99      0.99      0.99       540\n",
      "weighted avg       0.99      0.99      0.99       540\n",
      "\n"
     ]
    }
   ],
   "metadata": {}
  },
  {
   "cell_type": "code",
   "execution_count": 9,
   "source": [
    "# Confusion matrix for C = 100\r\n",
    "confusion_matrix(y_test, model.predict(x_test))"
   ],
   "outputs": [
    {
     "output_type": "execute_result",
     "data": {
      "text/plain": [
       "array([[59,  0,  0,  0,  0,  0,  0,  0,  0,  0],\n",
       "       [ 0, 49,  0,  0,  0,  0,  0,  0,  0,  0],\n",
       "       [ 0,  0, 49,  0,  0,  0,  0,  0,  0,  0],\n",
       "       [ 0,  0,  0, 64,  0,  0,  0,  0,  0,  0],\n",
       "       [ 0,  0,  0,  0, 61,  0,  0,  0,  0,  0],\n",
       "       [ 0,  0,  0,  0,  0, 46,  0,  0,  0,  1],\n",
       "       [ 0,  0,  0,  0,  0,  0, 51,  0,  0,  0],\n",
       "       [ 0,  0,  0,  0,  0,  0,  0, 56,  0,  1],\n",
       "       [ 0,  1,  0,  0,  0,  0,  0,  0, 45,  0],\n",
       "       [ 0,  0,  0,  0,  0,  2,  0,  0,  0, 55]], dtype=int64)"
      ]
     },
     "metadata": {},
     "execution_count": 9
    }
   ],
   "metadata": {}
  },
  {
   "cell_type": "code",
   "execution_count": 13,
   "source": [
    "plot_confusion_matrix(model, x_test, y_test)"
   ],
   "outputs": [
    {
     "output_type": "execute_result",
     "data": {
      "text/plain": [
       "<sklearn.metrics._plot.confusion_matrix.ConfusionMatrixDisplay at 0x1e44f265128>"
      ]
     },
     "metadata": {},
     "execution_count": 13
    },
    {
     "output_type": "display_data",
     "data": {
      "image/png": "[encoded data removed]",
      "text/plain": [
       "<Figure size 432x288 with 2 Axes>"
      ]
     },
     "metadata": {
      "needs_background": "light"
     }
    }
   ],
   "metadata": {}
  }
 ],
 "metadata": {
  "orig_nbformat": 4,
  "language_info": {
   "name": "python",
   "version": "3.7.1",
   "mimetype": "text/x-python",
   "codemirror_mode": {
    "name": "ipython",
    "version": 3
   },
   "pygments_lexer": "ipython3",
   "nbconvert_exporter": "python",
   "file_extension": ".py"
  },
  "kernelspec": {
   "name": "python3",
   "display_name": "Python 3.7.1 64-bit ('base': conda)"
  },
  "interpreter": {
   "hash": "61c669b71af8a4bba1683ff9672a5a4202034dc0dad7002d4c0b008a64b431ac"
  }
 },
 "nbformat": 4,
 "nbformat_minor": 2
}